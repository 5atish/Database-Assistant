{
 "cells": [
  {
   "cell_type": "code",
   "execution_count": 17,
   "id": "ed1ea83c",
   "metadata": {},
   "outputs": [],
   "source": [
    "import sqlite3\n",
    "from dotenv import load_dotenv\n",
    "import google.generativeai as genai\n",
    "import os"
   ]
  },
  {
   "cell_type": "code",
   "execution_count": 6,
   "id": "6ec8ebf0",
   "metadata": {},
   "outputs": [],
   "source": [
    "# Connect to SQLite database (or create it if it doesn't exist)\n",
    "conn = sqlite3.connect('employee.db')\n",
    "cur = conn.cursor()"
   ]
  },
  {
   "cell_type": "code",
   "execution_count": 9,
   "id": "2032c475",
   "metadata": {},
   "outputs": [
    {
     "data": {
      "text/plain": [
       "<sqlite3.Cursor at 0x1d89cd46f40>"
      ]
     },
     "execution_count": 9,
     "metadata": {},
     "output_type": "execute_result"
    }
   ],
   "source": [
    "# Create employee table with 10 columns\n",
    "cur.execute('''\n",
    "    CREATE TABLE IF NOT EXISTS employee (\n",
    "        ID INTEGER PRIMARY KEY AUTOINCREMENT,\n",
    "        Name TEXT NOT NULL,\n",
    "        Designation TEXT NOT NULL,\n",
    "        Location TEXT NOT NULL,\n",
    "        Salary REAL NOT NULL,\n",
    "        Age INTEGER NOT NULL,\n",
    "        Department TEXT NOT NULL,\n",
    "        Date_of_Joining TEXT NOT NULL,\n",
    "        Experience INTEGER NOT NULL,\n",
    "        Email TEXT NOT NULL\n",
    "    );\n",
    "''')\n"
   ]
  },
  {
   "cell_type": "code",
   "execution_count": 10,
   "id": "fb5ba2f4",
   "metadata": {},
   "outputs": [],
   "source": [
    "# Data to insert 20 more rows into the employee table\n",
    "employees = [\n",
    "    (\"Emily Brown\", \"HR Manager\", \"Miami\", 60000, 32, \"HR\", \"2017-03-14\", 8, \"emily.brown@example.com\"),\n",
    "    (\"Chris Evans\", \"UX Designer\", \"San Francisco\", 70000, 29, \"Design\", \"2019-10-22\", 4, \"chris.evans@example.com\"),\n",
    "    (\"Sophia Green\", \"DevOps Engineer\", \"Dallas\", 80000, 31, \"IT\", \"2021-07-12\", 3, \"sophia.green@example.com\"),\n",
    "    (\"Liam Wright\", \"Data Analyst\", \"Austin\", 65000, 26, \"Data\", \"2020-05-09\", 2, \"liam.wright@example.com\"),\n",
    "    (\"Olivia King\", \"Product Manager\", \"Seattle\", 85000, 33, \"Product\", \"2018-12-01\", 6, \"olivia.king@example.com\"),\n",
    "    (\"Noah Davis\", \"Business Analyst\", \"Denver\", 72000, 27, \"Business\", \"2019-08-18\", 3, \"noah.davis@example.com\"),\n",
    "    (\"Ava Clark\", \"Software Engineer\", \"New York\", 78000, 30, \"IT\", \"2021-02-28\", 5, \"ava.clark@example.com\"),\n",
    "    (\"James Lewis\", \"System Administrator\", \"Boston\", 71000, 35, \"IT\", \"2017-09-25\", 8, \"james.lewis@example.com\"),\n",
    "    (\"Mia Walker\", \"Marketing Specialist\", \"Los Angeles\", 67000, 28, \"Marketing\", \"2020-01-16\", 4, \"mia.walker@example.com\"),\n",
    "    (\"Lucas Harris\", \"Network Engineer\", \"San Diego\", 75000, 32, \"IT\", \"2018-06-30\", 5, \"lucas.harris@example.com\"),\n",
    "    (\"Isabella Lee\", \"Finance Manager\", \"Chicago\", 92000, 38, \"Finance\", \"2016-11-14\", 10, \"isabella.lee@example.com\"),\n",
    "    (\"William Scott\", \"Quality Assurance\", \"New York\", 66000, 29, \"QA\", \"2019-03-20\", 4, \"william.scott@example.com\"),\n",
    "    (\"Ella Mitchell\", \"Operations Manager\", \"Dallas\", 87000, 34, \"Operations\", \"2017-07-23\", 7, \"ella.mitchell@example.com\"),\n",
    "    (\"Mason Perez\", \"Data Engineer\", \"Chicago\", 82000, 30, \"Data\", \"2021-04-11\", 4, \"mason.perez@example.com\"),\n",
    "    (\"Sophia Wilson\", \"Customer Support\", \"Phoenix\", 58000, 25, \"Support\", \"2020-08-19\", 2, \"sophia.wilson@example.com\"),\n",
    "    (\"Ethan Hall\", \"Sales Manager\", \"Houston\", 94000, 36, \"Sales\", \"2015-12-17\", 10, \"ethan.hall@example.com\"),\n",
    "    (\"Amelia Allen\", \"Frontend Developer\", \"San Francisco\", 76000, 28, \"IT\", \"2020-06-05\", 5, \"amelia.allen@example.com\"),\n",
    "    (\"Benjamin Young\", \"Content Writer\", \"Miami\", 62000, 27, \"Marketing\", \"2019-11-29\", 3, \"benjamin.young@example.com\"),\n",
    "    (\"Charlotte Martinez\", \"Graphic Designer\", \"Los Angeles\", 68000, 31, \"Design\", \"2021-01-10\", 4, \"charlotte.martinez@example.com\"),\n",
    "    (\"Alexander Hill\", \"Security Analyst\", \"New York\", 83000, 34, \"IT\", \"2018-03-27\", 7, \"alexander.hill@example.com\")\n",
    "]"
   ]
  },
  {
   "cell_type": "code",
   "execution_count": 11,
   "id": "5adde6b4",
   "metadata": {},
   "outputs": [
    {
     "data": {
      "text/plain": [
       "<sqlite3.Cursor at 0x1d89cd46f40>"
      ]
     },
     "execution_count": 11,
     "metadata": {},
     "output_type": "execute_result"
    }
   ],
   "source": [
    "# Insert the additional 20 employee rows into the table\n",
    "cur.executemany('''\n",
    "    INSERT INTO employee (Name, Designation, Location, Salary, Age, Department, Date_of_Joining, Experience, Email)\n",
    "    VALUES (?, ?, ?, ?, ?, ?, ?, ?, ?)\n",
    "''', employees)"
   ]
  },
  {
   "cell_type": "code",
   "execution_count": 12,
   "id": "98705877",
   "metadata": {},
   "outputs": [],
   "source": [
    "# Commit the data insertion\n",
    "conn.commit()"
   ]
  },
  {
   "cell_type": "code",
   "execution_count": 13,
   "id": "f202453f",
   "metadata": {},
   "outputs": [],
   "source": [
    "# Fetch and display the inserted rows to verify\n",
    "cur.execute('SELECT * FROM employee')\n",
    "rows = cur.fetchall()"
   ]
  },
  {
   "cell_type": "code",
   "execution_count": 14,
   "id": "507ba7fa",
   "metadata": {},
   "outputs": [
    {
     "name": "stdout",
     "output_type": "stream",
     "text": [
      "(1, 'Emily Brown', 'HR Manager', 'Miami', 60000.0, 32, 'HR', '2017-03-14', 8, 'emily.brown@example.com')\n",
      "(2, 'Chris Evans', 'UX Designer', 'San Francisco', 70000.0, 29, 'Design', '2019-10-22', 4, 'chris.evans@example.com')\n",
      "(3, 'Sophia Green', 'DevOps Engineer', 'Dallas', 80000.0, 31, 'IT', '2021-07-12', 3, 'sophia.green@example.com')\n",
      "(4, 'Liam Wright', 'Data Analyst', 'Austin', 65000.0, 26, 'Data', '2020-05-09', 2, 'liam.wright@example.com')\n",
      "(5, 'Olivia King', 'Product Manager', 'Seattle', 85000.0, 33, 'Product', '2018-12-01', 6, 'olivia.king@example.com')\n",
      "(6, 'Noah Davis', 'Business Analyst', 'Denver', 72000.0, 27, 'Business', '2019-08-18', 3, 'noah.davis@example.com')\n",
      "(7, 'Ava Clark', 'Software Engineer', 'New York', 78000.0, 30, 'IT', '2021-02-28', 5, 'ava.clark@example.com')\n",
      "(8, 'James Lewis', 'System Administrator', 'Boston', 71000.0, 35, 'IT', '2017-09-25', 8, 'james.lewis@example.com')\n",
      "(9, 'Mia Walker', 'Marketing Specialist', 'Los Angeles', 67000.0, 28, 'Marketing', '2020-01-16', 4, 'mia.walker@example.com')\n",
      "(10, 'Lucas Harris', 'Network Engineer', 'San Diego', 75000.0, 32, 'IT', '2018-06-30', 5, 'lucas.harris@example.com')\n",
      "(11, 'Isabella Lee', 'Finance Manager', 'Chicago', 92000.0, 38, 'Finance', '2016-11-14', 10, 'isabella.lee@example.com')\n",
      "(12, 'William Scott', 'Quality Assurance', 'New York', 66000.0, 29, 'QA', '2019-03-20', 4, 'william.scott@example.com')\n",
      "(13, 'Ella Mitchell', 'Operations Manager', 'Dallas', 87000.0, 34, 'Operations', '2017-07-23', 7, 'ella.mitchell@example.com')\n",
      "(14, 'Mason Perez', 'Data Engineer', 'Chicago', 82000.0, 30, 'Data', '2021-04-11', 4, 'mason.perez@example.com')\n",
      "(15, 'Sophia Wilson', 'Customer Support', 'Phoenix', 58000.0, 25, 'Support', '2020-08-19', 2, 'sophia.wilson@example.com')\n",
      "(16, 'Ethan Hall', 'Sales Manager', 'Houston', 94000.0, 36, 'Sales', '2015-12-17', 10, 'ethan.hall@example.com')\n",
      "(17, 'Amelia Allen', 'Frontend Developer', 'San Francisco', 76000.0, 28, 'IT', '2020-06-05', 5, 'amelia.allen@example.com')\n",
      "(18, 'Benjamin Young', 'Content Writer', 'Miami', 62000.0, 27, 'Marketing', '2019-11-29', 3, 'benjamin.young@example.com')\n",
      "(19, 'Charlotte Martinez', 'Graphic Designer', 'Los Angeles', 68000.0, 31, 'Design', '2021-01-10', 4, 'charlotte.martinez@example.com')\n",
      "(20, 'Alexander Hill', 'Security Analyst', 'New York', 83000.0, 34, 'IT', '2018-03-27', 7, 'alexander.hill@example.com')\n"
     ]
    }
   ],
   "source": [
    "# Display the inserted rows\n",
    "for row in rows:\n",
    "    print(row)\n"
   ]
  },
  {
   "cell_type": "code",
   "execution_count": 15,
   "id": "d2d2f9cf",
   "metadata": {},
   "outputs": [],
   "source": [
    "# Close the connection\n",
    "conn.close()"
   ]
  },
  {
   "cell_type": "code",
   "execution_count": null,
   "id": "987220d1",
   "metadata": {},
   "outputs": [],
   "source": []
  },
  {
   "cell_type": "code",
   "execution_count": 18,
   "id": "b9c285ec",
   "metadata": {},
   "outputs": [],
   "source": [
    "load_dotenv()\n",
    "genai.configure(api_key=os.environ[\"GOOGLE_API_KEY\"])"
   ]
  },
  {
   "cell_type": "code",
   "execution_count": null,
   "id": "e7b9f35d",
   "metadata": {},
   "outputs": [],
   "source": []
  },
  {
   "cell_type": "code",
   "execution_count": 20,
   "id": "116dbd10",
   "metadata": {},
   "outputs": [],
   "source": [
    "## Connectt to SQlite\n",
    "connection=sqlite3.connect(\"employee.db\")"
   ]
  },
  {
   "cell_type": "code",
   "execution_count": 21,
   "id": "86e1b608",
   "metadata": {},
   "outputs": [],
   "source": [
    "## Function To Load Google Gemini Model and provide queries as response\n",
    "def get_gemini_response(question,prompt):\n",
    "    model=genai.GenerativeModel('gemini-pro')\n",
    "    response=model.generate_content([prompt[0],question])\n",
    "    return response.text"
   ]
  },
  {
   "cell_type": "code",
   "execution_count": 22,
   "id": "d71d05af",
   "metadata": {},
   "outputs": [],
   "source": [
    "## Fucntion To retrieve query from the database\n",
    "def read_sql_query(sql,db):\n",
    "    connection=sqlite3.connect(db)\n",
    "    cursor=connection.cursor()\n",
    "    cursor.execute(sql)\n",
    "    rows=cursor.fetchall()\n",
    "    connection.commit()\n",
    "    connection.close()\n",
    "    for row in rows:\n",
    "        print(row)\n",
    "    return rows"
   ]
  },
  {
   "cell_type": "code",
   "execution_count": 75,
   "id": "5df45e4e",
   "metadata": {},
   "outputs": [],
   "source": [
    "## Define Prompt\n",
    "prompt=[\n",
    "    \"\"\"\n",
    "    You are an expert in converting English questions to SQL query!\n",
    "    The SQL database has the name employee and has the following columns -         \n",
    "        ID INTEGER PRIMARY KEY AUTOINCREMENT,\n",
    "        Name TEXT NOT NULL,\n",
    "        Designation TEXT NOT NULL,\n",
    "        Location TEXT NOT NULL,\n",
    "        Salary REAL NOT NULL,\n",
    "        Age INTEGER NOT NULL,\n",
    "        Department TEXT NOT NULL,\n",
    "        Date_of_Joining TEXT NOT NULL,\n",
    "        Experience INTEGER NOT NULL,\n",
    "        Email TEXT NOT NULL\n",
    "    SECTION \\n\\nFor example,\\nExample 1 - Count the total number of employees?, \n",
    "    the SQL command will be like this SELECT COUNT(*) FROM employee;\n",
    "    \\nExample 2 - Get the sum of all employee salaries?, \n",
    "    the SQL command will be something like this SELECT SUM(Salary) FROM employee; \n",
    "    \\nExample 3 - Get employees located in 'New York'?, \n",
    "    the SQL command will be something like this SELECT Name FROM employee WHERE Location = 'New York'; \n",
    "    \\nExample 4 - Find employees with more than 5 years of experience?, \n",
    "    the SQL command will be something like this SELECT Name FROM employee WHERE Experience > 5;\n",
    "    \\nExample 5 - Find the highest-paid employee in each department?, \n",
    "    the SQL command will be something like this SELECT Department, Name, MAX(Salary) as HighestSalary FROM employee GROUP BY Department, Name;\n",
    "    \\nExample 6 - List all employees with more than 5 years of experience and a salary greater than 75000?, \n",
    "    the SQL command will be something like this SELECT Name, Salary, Experience FROM employee WHERE Experience > 5 AND Salary > 75000;\n",
    "    \\nExample 7 - Find employees who joined in the last 2 years?, \n",
    "    the SQL command will be something like this SELECT Name, Designation, Join_Date FROM employee WHERE Join_Date >= DATE('now', '-2 years');\n",
    "    also the sql code should not have ``` in beginning or end and sql word in output\n",
    "\n",
    "    \"\"\"\n",
    "\n",
    "]"
   ]
  },
  {
   "cell_type": "code",
   "execution_count": null,
   "id": "1a58b3c7",
   "metadata": {},
   "outputs": [],
   "source": [
    "# Get the sum of all employee salaries?\n",
    "# SELECT SUM(Salary) FROM employee;\n",
    "\n",
    "# Count the total number of employees\n",
    "# SELECT COUNT(*) FROM employee;\n",
    "\n",
    "# Get the average salary of employees in the 'IT' department\n",
    "# SELECT AVG(Salary) FROM employee WHERE Department = 'IT';\n",
    "\n",
    "# Retrieve the second-highest salary\n",
    "# SELECT MAX(Salary) FROM employee WHERE Salary < (SELECT MAX(Salary) FROM employee);\n",
    "\n",
    "# Get employees located in 'New York'\n",
    "# SELECT Name, Designation, Location FROM employee WHERE Location = 'New York';\n",
    "\n",
    "# Find employees with more than 5 years of experience\n",
    "# SELECT Name, Designation, Experience FROM employee WHERE Experience > 5;\n",
    "\n",
    "# List employees earning more than the average salary\n",
    "# SELECT Name, Salary FROM employee WHERE Salary > (SELECT AVG(Salary) FROM employee);\n",
    "\n",
    "# Get the total number of employees in each department\n",
    "# SELECT Department, COUNT(*) as EmployeeCount FROM employee GROUP BY Department;\n",
    "\n",
    "# Find the highest-paid employee in each department\n",
    "# SELECT Department, Name, MAX(Salary) as HighestSalary FROM employee GROUP BY Department, Name;\n",
    "\n",
    "# List all employees with more than 5 years of experience and a salary greater than 75000\n",
    "# SELECT Name, Designation, Salary, Experience  FROM employee WHERE Experience > 5 AND Salary > 75000;\n",
    "\n",
    "# Find employees who joined in the last 4 years\n",
    "# SELECT Name, Designation, Date_of_Joining FROM employee WHERE Date_of_Joining >= DATE('now', '-4 years');\n",
    "\n",
    "# Find employees who are not from the 'IT' and 'Finance' departments\n",
    "# SELECT Name, Department FROM employee WHERE Department NOT IN ('IT', 'Finance');\n",
    "\n",
    "# List the top 5 highest-paid employees\n",
    "# SELECT Name, Salary FROM employee ORDER BY Salary DESC LIMIT 5;"
   ]
  },
  {
   "cell_type": "code",
   "execution_count": 94,
   "id": "bf04b005",
   "metadata": {},
   "outputs": [
    {
     "name": "stdout",
     "output_type": "stream",
     "text": [
      "question: Retrieve the second-highest salary\n"
     ]
    }
   ],
   "source": [
    "question = input(\"question: \")"
   ]
  },
  {
   "cell_type": "code",
   "execution_count": 95,
   "id": "ddff6311",
   "metadata": {},
   "outputs": [
    {
     "data": {
      "text/plain": [
       "'Retrieve the second-highest salary'"
      ]
     },
     "execution_count": 95,
     "metadata": {},
     "output_type": "execute_result"
    }
   ],
   "source": [
    "question"
   ]
  },
  {
   "cell_type": "code",
   "execution_count": 104,
   "id": "9f6b222f",
   "metadata": {},
   "outputs": [],
   "source": [
    "query=get_gemini_response(question,prompt)"
   ]
  },
  {
   "cell_type": "code",
   "execution_count": 105,
   "id": "69ada90e",
   "metadata": {},
   "outputs": [
    {
     "data": {
      "text/plain": [
       "'SELECT MAX(Salary) FROM employee\\nWHERE Salary < (SELECT MAX(Salary) FROM employee)'"
      ]
     },
     "execution_count": 105,
     "metadata": {},
     "output_type": "execute_result"
    }
   ],
   "source": [
    "query"
   ]
  },
  {
   "cell_type": "code",
   "execution_count": 106,
   "id": "9b125c13",
   "metadata": {},
   "outputs": [
    {
     "name": "stdout",
     "output_type": "stream",
     "text": [
      "(92000.0,)\n"
     ]
    }
   ],
   "source": [
    "response=read_sql_query(query, \"employee.db\")"
   ]
  },
  {
   "cell_type": "code",
   "execution_count": 85,
   "id": "0501a4e6",
   "metadata": {},
   "outputs": [
    {
     "data": {
      "text/plain": [
       "[]"
      ]
     },
     "execution_count": 85,
     "metadata": {},
     "output_type": "execute_result"
    }
   ],
   "source": [
    "response"
   ]
  },
  {
   "cell_type": "code",
   "execution_count": null,
   "id": "961209c1",
   "metadata": {},
   "outputs": [],
   "source": []
  }
 ],
 "metadata": {
  "kernelspec": {
   "display_name": "Python 3 (ipykernel)",
   "language": "python",
   "name": "python3"
  },
  "language_info": {
   "codemirror_mode": {
    "name": "ipython",
    "version": 3
   },
   "file_extension": ".py",
   "mimetype": "text/x-python",
   "name": "python",
   "nbconvert_exporter": "python",
   "pygments_lexer": "ipython3",
   "version": "3.11.4"
  }
 },
 "nbformat": 4,
 "nbformat_minor": 5
}
